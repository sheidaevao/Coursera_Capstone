{
    "nbformat_minor": 1, 
    "cells": [
        {
            "source": "# CAPSTONE PROJECT: BATTLE OF THE NEIGHBORHOODS", 
            "cell_type": "markdown", 
            "metadata": {
                "collapsed": true
            }
        }, 
        {
            "source": "## I. PURPOSE", 
            "cell_type": "markdown", 
            "metadata": {}
        }, 
        {
            "source": "This document provides the details of my final peer reviewed assignment for the IBM Data Science Professional Certificate program \u2013 Coursera Capstone", 
            "cell_type": "markdown", 
            "metadata": {}
        }, 
        {
            "source": "## II. INTRODUCTION", 
            "cell_type": "markdown", 
            "metadata": {}
        }, 
        {
            "source": "Singapore is a small country and one of the most visited countries in Asia. There are a lot of websites where travelers can check and retrieve recommendations of places to stay or visit. However, most of these websites provides recommendation simply based on usual tourist attractions or key residential areas that are mostly expensive or already known for travelers based on certain keywords like \"Hotel\", or \"Backpackers\" etc. The intention on this project is to collect and provide a data driven recommendation that can supplement the recommendation with statistical data. This will also be utilizing data retrieved from Singapore open data sources and FourSquare API venue recommendations.\n\nThe sample recommender in this notebook will provide the following use case scenario:\n\nA person planning to visit Singapore as a Tourist or an Expat and looking for a reasonable accommodation.\nThe user wants to receive venue recommendation where he can stay or rent an HDB apartment with close proximity to places of interest or search category option.\nThe recommendation should not only present the most viable option, but also present a comparison table of all possible town venues.\nFor this demonstration, this notebook will make use of the following data:\n\nSingapore Median Rental Prices by town.\nPopular Food venues in the vicinity. (Sample category selection)\nNote: While this demo makes use of Food Venue Category, Other possible categories can also be used for the same implementation such as checking categories like:\n\nOutdoors and Recreation\nNightlife\nNearby Schools, etc.\nI will limit the scope of this search as FourSquare API only allows 50 free venue query limit per day when using a free user access.", 
            "cell_type": "markdown", 
            "metadata": {}
        }, 
        {
            "source": "", 
            "cell_type": "code", 
            "metadata": {}, 
            "outputs": [], 
            "execution_count": null
        }
    ], 
    "metadata": {
        "kernelspec": {
            "display_name": "Python 3.5", 
            "name": "python3", 
            "language": "python"
        }, 
        "language_info": {
            "mimetype": "text/x-python", 
            "nbconvert_exporter": "python", 
            "version": "3.5.5", 
            "name": "python", 
            "pygments_lexer": "ipython3", 
            "file_extension": ".py", 
            "codemirror_mode": {
                "version": 3, 
                "name": "ipython"
            }
        }
    }, 
    "nbformat": 4
}