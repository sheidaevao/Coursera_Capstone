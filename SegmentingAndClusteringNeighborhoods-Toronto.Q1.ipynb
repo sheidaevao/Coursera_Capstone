{
    "nbformat_minor": 1, 
    "cells": [
        {
            "source": "import requests # library to handle requests\nimport lxml.html as lh\nimport bs4 as bs\nimport urllib.request\n\nimport numpy as np # library to handle data in a vectorized manner\nimport pandas as pd # library for data analsysis", 
            "cell_type": "code", 
            "metadata": {}, 
            "outputs": [], 
            "execution_count": 1
        }, 
        {
            "source": "\n## Source URL\nurl   = \"https://en.wikipedia.org/wiki/List_of_postal_codes_of_Canada:_M\"", 
            "cell_type": "code", 
            "metadata": {}, 
            "outputs": [], 
            "execution_count": 2
        }, 
        {
            "source": "\n# -----------------------------------------------------\n# Using BS4 as suggested in Assignment.\n# scrape_table_bs4 <tableClassName> <expected numberOfColumns>\n# -----------------------------------------------------\ndef scrape_table_bs4(cname,cols):\n    page  = urllib.request.urlopen(url).read()\n    soup  = bs.BeautifulSoup(page,'lxml')\n    table = soup.find(\"table\",class_=cname)\n    header = [head.findAll(text=True)[0].strip() for head in table.find_all(\"th\")]\n    data   = [[td.findAll(text=True)[0].strip() for td in tr.find_all(\"td\")]\n              for tr in table.find_all(\"tr\")]\n    data    = [row for row in data if len(row) == cols]\n    # Store data to this temporary dataframe\n    raw_df = pd.DataFrame(data,columns=header)\n    return raw_df\n\n# -----------------------------------------------------\n# Parsing using xpath.\n# -----------------------------------------------------\ndef scrape_table_lxml(XPATH,cols):\n    page = requests.get(url)\n    doc = lh.fromstring(page.content)\n    table_content = doc.xpath(XPATH)\n    for table in table_content:\n        headers = [th.text_content().strip() for th in table.xpath('//th')]\n        headers = headers[0:3]\n        data    = [[td.text_content().strip() for td in tr.xpath('td')] \n                   for tr in table.xpath('//tbody/tr')]\n        data    = [row for row in data if len(row) == cols]\n        raw_df = pd.DataFrame(data,columns=headers)\n        return raw_df", 
            "cell_type": "code", 
            "metadata": {}, 
            "outputs": [], 
            "execution_count": 4
        }, 
        {
            "source": "#Test in beautifulSoup\nraw_TorontoPostalCodes = scrape_table_bs4(\"wikitable\",3)\n\n#Test in lxml ( for xpath based extraction)\n#raw_TorontoPostalCodes = scrape_table_lxml(\"/html/body/div[3]/div[3]/div[4]/div/table[1]\",3)\n\nprint(\"# Toronto Postal codes stored in data\")\nprint(raw_TorontoPostalCodes.info(verbose=True))", 
            "cell_type": "code", 
            "metadata": {}, 
            "outputs": [
                {
                    "output_type": "stream", 
                    "name": "stdout", 
                    "text": "# Toronto Postal codes stored in data\n<class 'pandas.core.frame.DataFrame'>\nRangeIndex: 288 entries, 0 to 287\nData columns (total 3 columns):\nPostcode         288 non-null object\nBorough          288 non-null object\nNeighbourhood    288 non-null object\ndtypes: object(3)\nmemory usage: 6.8+ KB\nNone\n"
                }
            ], 
            "execution_count": 5
        }, 
        {
            "source": "# -----------------------------------------------------\n# Only process the cells that have an assigned borough. \n# Ignore cells with a borough that is Not assigned.\n# -----------------------------------------------------\nTorontoPostalCodes=raw_TorontoPostalCodes[~raw_TorontoPostalCodes['Borough'].isin(['Not assigned'])]\n\n# Sort and Reset index.\nTorontoPostalCodes=TorontoPostalCodes.sort_values(by=['Postcode','Borough','Neighbourhood'], ascending=[1,1,1]).reset_index(drop=True)\n\n# -----------------------------------------------------\n# If a cell has a borough but a Not assigned neighborhood, then the neighborhood will be the same as the borough.\n# For example the value of the Borough and the Neighborhood columns will be Queen's Park.\n# -----------------------------------------------------\nTorontoPostalCodes.loc[TorontoPostalCodes['Neighbourhood'] == 'Not assigned', ['Neighbourhood']] = TorontoPostalCodes['Borough']\ncheck_unassigned_post_state_sample = TorontoPostalCodes.loc[TorontoPostalCodes['Borough'] == 'Queen\\'s Park']\n#print('DEBUG:',check_unassigned_post_state_sample) ; # Print sample borough problem post state\n\n# -----------------------------------------------------\n# More than one neighborhood can exist in one postal code area. \n# For example, in the table on the Wikipedia page, you will notice that M5A is listed twice \n# and has two neighborhoods: Harbourfront and Regent Park. \n# These two rows will be combined into one row with the neighborhoods separated with a comma.\n# -----------------------------------------------------\nTorontoPostalCodes = TorontoPostalCodes.groupby(['Postcode','Borough'])['Neighbourhood'].apply(', '.join).reset_index()", 
            "cell_type": "code", 
            "metadata": {}, 
            "outputs": [], 
            "execution_count": 6
        }, 
        {
            "source": "TorontoPostalCodes.shape", 
            "cell_type": "code", 
            "metadata": {}, 
            "outputs": [
                {
                    "output_type": "execute_result", 
                    "data": {
                        "text/plain": "(103, 3)"
                    }, 
                    "execution_count": 7, 
                    "metadata": {}
                }
            ], 
            "execution_count": 7
        }, 
        {
            "source": "TorontoPostalCodes.to_csv('Toronto.TASK_1_df.csv',index=False)", 
            "cell_type": "code", 
            "metadata": {}, 
            "outputs": [], 
            "execution_count": 8
        }
    ], 
    "metadata": {
        "kernelspec": {
            "display_name": "Python 3.5", 
            "name": "python3", 
            "language": "python"
        }, 
        "language_info": {
            "mimetype": "text/x-python", 
            "nbconvert_exporter": "python", 
            "version": "3.5.5", 
            "name": "python", 
            "file_extension": ".py", 
            "pygments_lexer": "ipython3", 
            "codemirror_mode": {
                "version": 3, 
                "name": "ipython"
            }
        }
    }, 
    "nbformat": 4
}